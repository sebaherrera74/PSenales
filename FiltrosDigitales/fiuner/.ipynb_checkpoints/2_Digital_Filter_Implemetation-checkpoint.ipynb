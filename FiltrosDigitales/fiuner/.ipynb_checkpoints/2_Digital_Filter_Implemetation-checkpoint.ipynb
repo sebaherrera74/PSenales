{
 "cells": [
  {
   "cell_type": "markdown",
   "metadata": {},
   "source": [
    "![header](header.png)\n",
    "\n",
    "# Procesamiento Digital de Señales en Sistemas Embebidos\n",
    "---\n"
   ]
  },
  {
   "cell_type": "markdown",
   "metadata": {},
   "source": [
    "# TP4: Filtrado Digital *(parte 2)*\n",
    "\n",
    "## Introducción\n",
    "\n",
    "El algoritmo Pan-Tompkins se usa comúnmente para detectar complejos QRS en señales electrocardiográficas (ECG). El complejo QRS representa la despolarización ventricular y el pico principal visible en una señal de ECG (ver figura). Esta característica lo hace especialmente adecuado para medir la frecuencia cardíaca, la primera forma de evaluar el estado de salud del corazón.\n",
    "\n",
    "El algoritmo de Pan-Tompkins aplica una serie de filtros para resaltar el contenido de frecuencia del QRS y eliminar el ruido de fondo. Luego deriva y cuadra la señal para amplificar la contribución QRS, lo que hace que la identificación del complejo QRS sea más sencilla. Finalmente integra la señal y aplica umbrales para detectar los picos.\n",
    "\n",
    "![pan-tompkins](pan-tompkins.png)\n",
    "\n",
    "El filtro aplicado en el primer paso para aumentar la relación señal-ruido consiste en un pasa-banda. Se sugiere un ancho de banda de filtro de 5 a 15 Hz para maximizar la contribución de QRS y reducir el ruido muscular, la desviación de la línea de base, la interferencia de la línea eléctrica y el contenido de frecuencia de onda P/onda T. Este filtro estaba originalmente implementado mediante un pasa bajos y un pasa altos, y presentaba una atenuación de aproximadamente 20dB para frecuencias de 1Hz y 50Hz.\n",
    "\n",
    "## Consignas\n",
    "\n",
    "A partir de una señal de ECG descargada del Repositorio de Physionet, replicar la acción de filtrado correspondiente a la primera etapa del algoritmo de Pan-Tompkins.\n",
    "Para ello:\n",
    "1. Proponer dos diseños de filtros con los requerimientos mencionados, utilizando un filtro de tipo FIR y uno de tipo IIR.\n",
    "2. Probar dichos filtros sobre un registro de ECG en Python.\n",
    "3. Implementar ambos filtros en el ESP32, y probarlos también utilizando la misma señal de ECG."
   ]
  },
  {
   "cell_type": "markdown",
   "metadata": {},
   "source": [
    "## Filtrado de Señales"
   ]
  },
  {
   "cell_type": "markdown",
   "metadata": {},
   "source": [
    "Se probarán los filtros diseñados utilziando registros de ECG descargados de Physionet.\n",
    "\n",
    "[PhysioNet](https://physionet.org/about/database/) es un repositorio de datos de investigación médica de libre acceso, administrado por el Laboratorio de Fisiología Computacional del MIT.\n",
    "\n",
    "Para acceder a la base de datos de Physionet se utilizará paquete [waveform-database](https://pypi.org/project/wfdb/1.0.6/) (WFDB) para Python. Este es una biblioteca de herramientas para  leer, escribir y procesar señales y anotaciones fisiológicas (escritas en el lenguaje de programación Python).\n",
    "\n",
    "![physionet](physionet.png)"
   ]
  },
  {
   "cell_type": "code",
   "execution_count": 6,
   "metadata": {},
   "outputs": [],
   "source": [
    "# Incluir librería WFDB (si no está instalada, instalarla)\n",
    "try:\n",
    "    import wfdb\n",
    "except:\n",
    "    !pip install wfdb\n",
    "    import wfdb"
   ]
  },
  {
   "cell_type": "code",
   "execution_count": 7,
   "metadata": {},
   "outputs": [],
   "source": [
    "# Incluir librerías\n",
    "from scipy import signal, fft\n",
    "import numpy as np\n",
    "import matplotlib.pyplot as plt"
   ]
  },
  {
   "cell_type": "markdown",
   "metadata": {},
   "source": [
    "### Descarga de registros de Physionet\n",
    "\n",
    "La señales de ECG a procesar provienen de la base de datos de Physionet:\n",
    "\n",
    "https://physionet.org/content/stdb/1.0.0/\n",
    "\n",
    "Las mismas corresponden a un estudio en el que se realizaron 28 mediciones de ECG en pacientes durante pruebas de esfuerzo (ergometría) para análisis de los cambios en el segmento ST. \n",
    "\n",
    "Los registros disponibles están numerados a partir del 300 hasta el 327."
   ]
  },
  {
   "cell_type": "code",
   "execution_count": null,
   "metadata": {},
   "outputs": [],
   "source": [
    "# carga de la señal utilizando el paquete WFDB\n",
    "record = wfdb.rdrecord('300', pn_dir='stdb') \n",
    "wfdb.plot_wfdb(record=record, time_units='seconds', figsize=(15, 7),\n",
    "               title='Registro 300 - MIT-BIH ST Change Database') \n",
    "\n",
    "print(\"Parámetros del registro:\")\n",
    "print(f\"- Nombre del registro: {record.record_name}\")\n",
    "print(f\"- Cantidad de señales: {record.n_sig}\")\n",
    "print(f\"- Frecuencia de muestreo: {record.fs}\")\n",
    "print(f\"- Longitud de las señales: {record.sig_len}\")"
   ]
  },
  {
   "cell_type": "markdown",
   "metadata": {},
   "source": [
    "### Definición de parámetros temporales:"
   ]
  },
  {
   "cell_type": "code",
   "execution_count": null,
   "metadata": {},
   "outputs": [],
   "source": [
    "# se extraen los parámetros de la señal correspondiente al primer canal del registro\n",
    "senial = record.p_signal[:, 0]\n",
    "fs = record.fs\n",
    "N = record.sig_len                      # número de muestras\n",
    "ts = 1 / fs                             # tiempo de muestreo\n",
    "t = np.linspace(0, N * ts, N)           # vector de tiempo"
   ]
  },
  {
   "cell_type": "markdown",
   "metadata": {},
   "source": [
    "### Cálculo de la FFT"
   ]
  },
  {
   "cell_type": "code",
   "execution_count": null,
   "metadata": {},
   "outputs": [],
   "source": [
    "def fft_mag(x, fs):\n",
    "    freq = fft.fftfreq(len(x), d=1/fs)   # se genera el vector de frecuencias\n",
    "    senial_fft = fft.fft(x)    # se calcula la transformada rápida de Fourier\n",
    "\n",
    "    # El espectro es simétrico, nos quedamos solo con el semieje positivo\n",
    "    f = freq[np.where(freq >= 0)]      \n",
    "    senial_fft = senial_fft[np.where(freq >= 0)]\n",
    "\n",
    "    # Se calcula la magnitud del espectro\n",
    "    mag = np.abs(senial_fft) / len(x)    # Respetando la relación de Parceval\n",
    "    # Al haberse descartado la mitad del espectro, para conservar la energía \n",
    "    # original de la señal, se debe multiplicar la mitad restante por dos (excepto\n",
    "    # en 0 y fm/2)\n",
    "    mag[1:len(mag)-1] = 2 * mag[1:len(mag)-1]\n",
    "    \n",
    "    return f, mag"
   ]
  },
  {
   "cell_type": "code",
   "execution_count": null,
   "metadata": {
    "scrolled": true
   },
   "outputs": [],
   "source": [
    "f, senial_fft_mod = fft_mag(senial, fs)"
   ]
  },
  {
   "cell_type": "markdown",
   "metadata": {},
   "source": [
    "### Graficación "
   ]
  },
  {
   "cell_type": "code",
   "execution_count": null,
   "metadata": {},
   "outputs": [],
   "source": [
    "# Se crea una gráfica \n",
    "fig1, ax1 = plt.subplots(2, 1, figsize=(15, 10))\n",
    "fig1.suptitle(record.sig_name[0], fontsize=18)\n",
    "\n",
    "# Se grafica la señal\n",
    "ax1[0].plot(t, senial, label=record.sig_name[0])\n",
    "ax1[0].set_xlabel('Tiempo [s]', fontsize=12)\n",
    "ax1[0].set_ylabel('Tensión [mV]', fontsize=12)\n",
    "ax1[0].set_xlim([0, 5])\n",
    "ax1[0].grid()\n",
    "ax1[0].legend(fontsize=12)\n",
    "\n",
    "# se grafica la magnitud de la respuesta en frecuencia\n",
    "ax1[1].plot(f, senial_fft_mod, label=record.sig_name[0])\n",
    "ax1[1].set_xlabel('Frecuencia [Hz]', fontsize=12)\n",
    "ax1[1].set_ylabel('Magnitud [mV]', fontsize=12)\n",
    "ax1[1].set_title('Magnitud de la Respuesta en Frecuencia', fontsize=15)\n",
    "#ax1[1].set_xlim([0, 100])\n",
    "ax1[1].grid()\n",
    "ax1[1].legend(fontsize=12)\n",
    "\n",
    "plt.tight_layout()\n",
    "plt.show()"
   ]
  },
  {
   "cell_type": "markdown",
   "metadata": {},
   "source": [
    "### Filtrado de las señales"
   ]
  },
  {
   "cell_type": "code",
   "execution_count": null,
   "metadata": {},
   "outputs": [],
   "source": [
    "# Diseño o carga de los filtros\n",
    "\n",
    "# se cargan los filtro diseñado mediante pyFDA\n",
    "filtro_iir = np.load('filtro_iir.npz', allow_pickle=True)\n",
    "filtro_fir = np.load('filtro_fir.npz', allow_pickle=True)\n",
    "\n",
    "# se extraen los coeficientes\n",
    "num_iir_2, den_iir_2 = filtro_iir['ba']  \n",
    "sos_iir_2 = signal.tf2sos(num_iir_2, den_iir_2)\n",
    "num_fir_2, den_fir_2 = filtro_fir['ba'] "
   ]
  },
  {
   "cell_type": "code",
   "execution_count": null,
   "metadata": {},
   "outputs": [],
   "source": [
    "# filtrado de la señal\n",
    "senial_iir = signal.sosfilt(sos_iir_2, senial)\n",
    "senial_fir = signal.lfilter(num_fir_2, 1, senial)\n",
    "\n",
    "# cálculo del espectro de las señales\n",
    "f_, fft_senial = fft_mag(senial, fs)\n",
    "f_, fft_senial_iir_f = fft_mag(senial_iir, fs)\n",
    "f_, fft_senial_fir = fft_mag(senial_fir, fs)"
   ]
  },
  {
   "cell_type": "code",
   "execution_count": null,
   "metadata": {},
   "outputs": [],
   "source": [
    "# graficación de las señales\n",
    "fig2, ax2 = plt.subplots(2, 1, figsize=(15, 10), sharex=True)\n",
    "ax2[0].plot(t, senial, label='Señal original')\n",
    "ax2[0].plot(t, senial_iir, label='Señal filtrada IIR')\n",
    "ax2[0].set_ylabel('Amplitud [mV]', fontsize=12)\n",
    "ax2[0].legend(loc=\"upper right\", fontsize=12)\n",
    "ax2[0].set_title('Filtro IIR', fontsize=15)\n",
    "ax2[0].set_ylim([-1, 1.5])\n",
    "ax2[0].grid()\n",
    "\n",
    "ax2[1].plot(t, senial, label='Señal original')\n",
    "ax2[1].plot(t, senial_fir, label='Señal filtrada FIR', color='g')\n",
    "ax2[1].set_ylabel('Amplitud [mV]', fontsize=12)\n",
    "ax2[1].set_xlabel('Tiempo [s]', fontsize=12)\n",
    "ax2[1].legend(loc=\"upper right\", fontsize=12)\n",
    "ax2[1].set_title('Filtro FIR', fontsize=15)\n",
    "ax2[1].set_xlim([0, 3])\n",
    "ax2[1].set_ylim([-1, 1.5])\n",
    "ax2[1].grid()\n",
    "\n",
    "plt.show()"
   ]
  },
  {
   "cell_type": "code",
   "execution_count": null,
   "metadata": {},
   "outputs": [],
   "source": [
    "# graficación de los espectros\n",
    "fig3, ax3 = plt.subplots(1, 2, figsize=(15, 8), sharey=True)\n",
    "ax3[0].plot(f_, fft_senial, label='Señal Original')\n",
    "ax3[0].plot(f_, fft_senial_iir_f, label='Señal filtrada IIR')\n",
    "ax3[0].set_ylabel('Amplitud [mV]', fontsize=12)\n",
    "ax3[0].set_xlabel('Frecuencia [Hz]', fontsize=12)\n",
    "ax3[0].legend(loc=\"upper right\", fontsize=12)\n",
    "ax3[0].set_title('Filtro IIR', fontsize=15)\n",
    "ax3[0].set_xlim([0.5, 80])\n",
    "ax3[0].grid()\n",
    "\n",
    "ax3[1].plot(f_, fft_senial, label='Señal Original')\n",
    "ax3[1].plot(f_, fft_senial_fir, label='Señal filtrada FIR', color='g')\n",
    "ax3[1].set_xlabel('Frecuencia [Hz]', fontsize=12)\n",
    "ax3[1].legend(loc=\"upper right\", fontsize=12)\n",
    "ax3[1].set_title('Filtro FIR', fontsize=15)\n",
    "ax3[1].set_xlim([0.5, 80])\n",
    "ax3[1].set_ylim([0, 0.012])\n",
    "ax3[1].grid()\n",
    "\n",
    "plt.show()"
   ]
  },
  {
   "cell_type": "code",
   "execution_count": null,
   "metadata": {},
   "outputs": [],
   "source": []
  },
  {
   "cell_type": "code",
   "execution_count": null,
   "metadata": {},
   "outputs": [],
   "source": []
  },
  {
   "cell_type": "code",
   "execution_count": null,
   "metadata": {},
   "outputs": [],
   "source": []
  },
  {
   "cell_type": "code",
   "execution_count": null,
   "metadata": {},
   "outputs": [],
   "source": []
  }
 ],
 "metadata": {
  "kernelspec": {
   "display_name": "Python 3 (ipykernel)",
   "language": "python",
   "name": "python3"
  },
  "language_info": {
   "codemirror_mode": {
    "name": "ipython",
    "version": 3
   },
   "file_extension": ".py",
   "mimetype": "text/x-python",
   "name": "python",
   "nbconvert_exporter": "python",
   "pygments_lexer": "ipython3",
   "version": "3.11.2"
  }
 },
 "nbformat": 4,
 "nbformat_minor": 4
}
